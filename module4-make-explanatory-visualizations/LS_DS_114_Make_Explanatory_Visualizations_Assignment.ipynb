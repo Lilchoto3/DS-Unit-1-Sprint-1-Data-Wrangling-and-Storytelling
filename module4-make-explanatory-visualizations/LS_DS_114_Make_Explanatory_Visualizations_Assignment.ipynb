{
  "nbformat": 4,
  "nbformat_minor": 0,
  "metadata": {
    "colab": {
      "name": "LS_DS_114_Make_Explanatory_Visualizations_Assignment.ipynb",
      "provenance": [],
      "collapsed_sections": [],
      "include_colab_link": true
    },
    "language_info": {
      "codemirror_mode": {
        "name": "ipython",
        "version": 3
      },
      "file_extension": ".py",
      "mimetype": "text/x-python",
      "name": "python",
      "nbconvert_exporter": "python",
      "pygments_lexer": "ipython3",
      "version": "3.7.1"
    },
    "kernelspec": {
      "display_name": "Python 3",
      "language": "python",
      "name": "python3"
    }
  },
  "cells": [
    {
      "cell_type": "markdown",
      "metadata": {
        "id": "view-in-github",
        "colab_type": "text"
      },
      "source": [
        "<a href=\"https://colab.research.google.com/github/Lilchoto3/DS-Unit-1-Sprint-1-Data-Wrangling-and-Storytelling/blob/master/module4-make-explanatory-visualizations/LS_DS_114_Make_Explanatory_Visualizations_Assignment.ipynb\" target=\"_parent\"><img src=\"https://colab.research.google.com/assets/colab-badge.svg\" alt=\"Open In Colab\"/></a>"
      ]
    },
    {
      "cell_type": "markdown",
      "metadata": {
        "colab_type": "text",
        "id": "NMEswXWh9mqw"
      },
      "source": [
        "Lambda School Data Science\n",
        "\n",
        "*Unit 1, Sprint 1, Module 4*\n",
        "\n",
        "---\n",
        "\n",
        "# ASSIGNMENT\n",
        "\n",
        "### 1) Replicate the lesson code. I recommend that you [do not copy-paste](https://docs.google.com/document/d/1ubOw9B3Hfip27hF2ZFnW3a3z9xAgrUDRReOEo-FHCVs/edit).\n",
        "\n",
        "Get caught up to where we got our example in class and then try and take things further. How close to \"pixel perfect\" can you make the lecture graph?\n",
        "\n",
        "Once you have something that you're proud of, share your graph in the cohort channel and move on to the second exercise.\n",
        "\n",
        "### 2) Reproduce another example from [FiveThityEight's shared data repository](https://data.fivethirtyeight.com/).\n",
        "\n",
        "**WARNING**: There are a lot of very custom graphs and tables at the above link. I **highly** recommend not trying to reproduce any that look like a table of values or something really different from the graph types that we are already familiar with. Search through the posts until you find a graph type that you are more or less familiar with: histogram, bar chart, stacked bar chart, line chart, [seaborn relplot](https://seaborn.pydata.org/generated/seaborn.relplot.html), etc. Recreating some of the graphics that 538 uses would be a lot easier in Adobe photoshop/illustrator than with matplotlib. \n",
        "\n",
        "- If you put in some time to find a graph that looks \"easy\" to replicate you'll probably find that it's not as easy as you thought. \n",
        "\n",
        "- If you start with a graph that looks hard to replicate you'll probably run up against a brick wall and be disappointed with your afternoon.\n",
        "\n",
        "\n",
        "\n",
        "\n",
        "\n",
        "\n",
        "\n",
        "\n",
        "\n",
        "\n"
      ]
    },
    {
      "cell_type": "code",
      "metadata": {
        "id": "7SY1ZHawyZvz",
        "colab_type": "code",
        "colab": {
          "base_uri": "https://localhost:8080/",
          "height": 361
        },
        "outputId": "1e828706-56a0-44c2-b966-27a1d6da4f54"
      },
      "source": [
        "%matplotlib inline\n",
        "import matplotlib.pyplot as plt\n",
        "import matplotlib.lines as lines\n",
        "import numpy as np\n",
        "import pandas as pd\n",
        "\n",
        "# Create the fake data\n",
        "fake = pd.Series([38,3,2,1,2,4,6,5,5,33], index=range(1,11))\n",
        "\n",
        "# Okay, lets start setting up the graph\n",
        "fig, ax = plt.subplots()\n",
        "\n",
        "# Tell it to plot the graph\n",
        "ax.bar(x=range(1,11), height=fake, color='#ED713A', width=0.9)\n",
        "\n",
        "# Make the background white\n",
        "fig.set_facecolor(color='None')\n",
        "ax.set_facecolor(color='None')\n",
        "\n",
        "# Set up the tick marks\n",
        "ax.set_xticks(range(1,11))\n",
        "ax.set_yticks(range(0,41,10))\n",
        "\n",
        "# Tick Labels\n",
        "ax.set_yticklabels(['0   ','10   ','20   ','30   ','40%'], fontsize=9, color=\"#AEAEAE\")\n",
        "ax.set_xticklabels(range(1,11), fontsize=9, color=\"#AEAEAE\")\n",
        "ax.xaxis.labelpad = 10\n",
        "ax.yaxis.labelpad = 10\n",
        "\n",
        "# Axis Labels\n",
        "ax.set_xlabel('Rating', fontsize=9, fontweight='bold')\n",
        "ax.set_ylabel('Percent of total votes', fontsize=9, fontweight='bold')\n",
        "\n",
        "# Remove left and right spines\n",
        "ax.spines['left'].set_visible(False)\n",
        "ax.spines['right'].set_visible(False)\n",
        "\n",
        "# Make bottom spines stick out and left and right spines suck in\n",
        "ax.tick_params(axis='x',which='major',direction='inout', length=20, pad=5, color=\"#AEAEAE\")\n",
        "ax.tick_params(axis='y',which='major',direction='inout', length=0, pad=0, color=\"#AEAEAE\")\n",
        "\n",
        "# Fiddle with margins to get the left and right sides of the graph sucked in\n",
        "ax.margins(0.025,0.06)\n",
        "\n",
        "# Set title of graph\n",
        "ax.set_title(\"'An Inconvenient Sequel: Truth To Power' is divisive\", fontsize=13, x=.37, y=1.15, fontweight='bold')\n",
        "\n",
        "# Set subtitle\n",
        "ax.text(s=\"IMDb ratings for the film as of Aug. 29\", y=44, x=-1, fontsize=12)\n",
        "\n",
        "# Draw a footer line\n",
        "fig.add_artist(lines.Line2D([-.01,.95], [-.05,-.05], color=\"#AEAEAE\", linewidth=0.75))\n",
        "\n",
        "# Add footer text\n",
        "fig.text(x=-.01, y=-.09, s=\"FiveThirtyEight\", color=\"#AEAEAE\", fontsize=9)\n",
        "fig.text(x=.83,y=-.08,s=\"SOURCE: IMDB\", color=\"#AEAEAE\", fontsize=7)\n",
        "\n",
        "# Show the graph\n",
        "plt.show()"
      ],
      "execution_count": 310,
      "outputs": [
        {
          "output_type": "display_data",
          "data": {
            "image/png": "[encoded data removed]",
            "text/plain": [
              "<Figure size 432x288 with 1 Axes>"
            ]
          },
          "metadata": {
            "tags": []
          }
        }
      ]
    },
    {
      "cell_type": "code",
      "metadata": {
        "id": "oJ9dPiRAP5T9",
        "colab_type": "code",
        "colab": {}
      },
      "source": [
        "# Part 2\n",
        "# For this part I'm going to be replicating this graph: https://i.imgur.com/UIQekhW.png\n",
        "# This graph is from: https://fivethirtyeight.com/features/pepe-the-frog-symbolism-cryptoart-blockchain/\n",
        "# The graph represents the change of the cryptocurrency \"Pepe Cash\" over time\n",
        "\n",
        "# Load my data\n",
        "cash_price = pd.read_csv('https://raw.githubusercontent.com/fivethirtyeight/data/master/rare-pepes/pepecash_prices.csv')"
      ],
      "execution_count": 0,
      "outputs": []
    },
    {
      "cell_type": "code",
      "metadata": {
        "id": "NuRK76wQuhNS",
        "colab_type": "code",
        "colab": {
          "base_uri": "https://localhost:8080/",
          "height": 365
        },
        "outputId": "965bac85-0d36-4f40-f294-622c20c8dae7"
      },
      "source": [
        "# See what I'm looking at\n",
        "print(cash_price.shape)\n",
        "cash_price.head(10)"
      ],
      "execution_count": 312,
      "outputs": [
        {
          "output_type": "stream",
          "text": [
            "(491, 2)\n"
          ],
          "name": "stdout"
        },
        {
          "output_type": "execute_result",
          "data": {
            "text/html": [
              "<div>\n",
              "<style scoped>\n",
              "    .dataframe tbody tr th:only-of-type {\n",
              "        vertical-align: middle;\n",
              "    }\n",
              "\n",
              "    .dataframe tbody tr th {\n",
              "        vertical-align: top;\n",
              "    }\n",
              "\n",
              "    .dataframe thead th {\n",
              "        text-align: right;\n",
              "    }\n",
              "</style>\n",
              "<table border=\"1\" class=\"dataframe\">\n",
              "  <thead>\n",
              "    <tr style=\"text-align: right;\">\n",
              "      <th></th>\n",
              "      <th>Timestamp</th>\n",
              "      <th>Price</th>\n",
              "    </tr>\n",
              "  </thead>\n",
              "  <tbody>\n",
              "    <tr>\n",
              "      <th>0</th>\n",
              "      <td>1517558400</td>\n",
              "      <td>0.052494</td>\n",
              "    </tr>\n",
              "    <tr>\n",
              "      <th>1</th>\n",
              "      <td>1517472000</td>\n",
              "      <td>0.041177</td>\n",
              "    </tr>\n",
              "    <tr>\n",
              "      <th>2</th>\n",
              "      <td>1517385600</td>\n",
              "      <td>0.062411</td>\n",
              "    </tr>\n",
              "    <tr>\n",
              "      <th>3</th>\n",
              "      <td>1517299200</td>\n",
              "      <td>0.064185</td>\n",
              "    </tr>\n",
              "    <tr>\n",
              "      <th>4</th>\n",
              "      <td>1517212800</td>\n",
              "      <td>0.071138</td>\n",
              "    </tr>\n",
              "    <tr>\n",
              "      <th>5</th>\n",
              "      <td>1517126400</td>\n",
              "      <td>0.073951</td>\n",
              "    </tr>\n",
              "    <tr>\n",
              "      <th>6</th>\n",
              "      <td>1517040000</td>\n",
              "      <td>0.074749</td>\n",
              "    </tr>\n",
              "    <tr>\n",
              "      <th>7</th>\n",
              "      <td>1516953600</td>\n",
              "      <td>0.068029</td>\n",
              "    </tr>\n",
              "    <tr>\n",
              "      <th>8</th>\n",
              "      <td>1516867200</td>\n",
              "      <td>0.083559</td>\n",
              "    </tr>\n",
              "    <tr>\n",
              "      <th>9</th>\n",
              "      <td>1516780800</td>\n",
              "      <td>0.080997</td>\n",
              "    </tr>\n",
              "  </tbody>\n",
              "</table>\n",
              "</div>"
            ],
            "text/plain": [
              "    Timestamp     Price\n",
              "0  1517558400  0.052494\n",
              "1  1517472000  0.041177\n",
              "2  1517385600  0.062411\n",
              "3  1517299200  0.064185\n",
              "4  1517212800  0.071138\n",
              "5  1517126400  0.073951\n",
              "6  1517040000  0.074749\n",
              "7  1516953600  0.068029\n",
              "8  1516867200  0.083559\n",
              "9  1516780800  0.080997"
            ]
          },
          "metadata": {
            "tags": []
          },
          "execution_count": 312
        }
      ]
    },
    {
      "cell_type": "code",
      "metadata": {
        "id": "rNrZVfrc2Kog",
        "colab_type": "code",
        "colab": {
          "base_uri": "https://localhost:8080/",
          "height": 347
        },
        "outputId": "f94edc2e-b985-4dbe-e59c-05d484f995fd"
      },
      "source": [
        "# These timestamps are UNIX timestamps, also the first one seems to be the most recent\n",
        "# If I look at the tail, I can see what the first ones recorded look like\n",
        "cash_price.tail(10)"
      ],
      "execution_count": 313,
      "outputs": [
        {
          "output_type": "execute_result",
          "data": {
            "text/html": [
              "<div>\n",
              "<style scoped>\n",
              "    .dataframe tbody tr th:only-of-type {\n",
              "        vertical-align: middle;\n",
              "    }\n",
              "\n",
              "    .dataframe tbody tr th {\n",
              "        vertical-align: top;\n",
              "    }\n",
              "\n",
              "    .dataframe thead th {\n",
              "        text-align: right;\n",
              "    }\n",
              "</style>\n",
              "<table border=\"1\" class=\"dataframe\">\n",
              "  <thead>\n",
              "    <tr style=\"text-align: right;\">\n",
              "      <th></th>\n",
              "      <th>Timestamp</th>\n",
              "      <th>Price</th>\n",
              "    </tr>\n",
              "  </thead>\n",
              "  <tbody>\n",
              "    <tr>\n",
              "      <th>481</th>\n",
              "      <td>1475910000</td>\n",
              "      <td>0.000075</td>\n",
              "    </tr>\n",
              "    <tr>\n",
              "      <th>482</th>\n",
              "      <td>1475823600</td>\n",
              "      <td>0.000073</td>\n",
              "    </tr>\n",
              "    <tr>\n",
              "      <th>483</th>\n",
              "      <td>1475737200</td>\n",
              "      <td>0.000087</td>\n",
              "    </tr>\n",
              "    <tr>\n",
              "      <th>484</th>\n",
              "      <td>1475650800</td>\n",
              "      <td>0.000088</td>\n",
              "    </tr>\n",
              "    <tr>\n",
              "      <th>485</th>\n",
              "      <td>1475564400</td>\n",
              "      <td>0.000071</td>\n",
              "    </tr>\n",
              "    <tr>\n",
              "      <th>486</th>\n",
              "      <td>1475478000</td>\n",
              "      <td>0.000069</td>\n",
              "    </tr>\n",
              "    <tr>\n",
              "      <th>487</th>\n",
              "      <td>1475391600</td>\n",
              "      <td>0.000069</td>\n",
              "    </tr>\n",
              "    <tr>\n",
              "      <th>488</th>\n",
              "      <td>1475305200</td>\n",
              "      <td>0.000037</td>\n",
              "    </tr>\n",
              "    <tr>\n",
              "      <th>489</th>\n",
              "      <td>1475218800</td>\n",
              "      <td>0.000084</td>\n",
              "    </tr>\n",
              "    <tr>\n",
              "      <th>490</th>\n",
              "      <td>1475132400</td>\n",
              "      <td>0.000092</td>\n",
              "    </tr>\n",
              "  </tbody>\n",
              "</table>\n",
              "</div>"
            ],
            "text/plain": [
              "      Timestamp     Price\n",
              "481  1475910000  0.000075\n",
              "482  1475823600  0.000073\n",
              "483  1475737200  0.000087\n",
              "484  1475650800  0.000088\n",
              "485  1475564400  0.000071\n",
              "486  1475478000  0.000069\n",
              "487  1475391600  0.000069\n",
              "488  1475305200  0.000037\n",
              "489  1475218800  0.000084\n",
              "490  1475132400  0.000092"
            ]
          },
          "metadata": {
            "tags": []
          },
          "execution_count": 313
        }
      ]
    },
    {
      "cell_type": "code",
      "metadata": {
        "id": "nRJLK9wVuWX9",
        "colab_type": "code",
        "colab": {
          "base_uri": "https://localhost:8080/",
          "height": 70
        },
        "outputId": "5a58dcd2-82a6-485c-ce3d-61129ec4bd1b"
      },
      "source": [
        "# I also wanna check for null values, just in case\n",
        "print(cash_price.isnull().sum())"
      ],
      "execution_count": 314,
      "outputs": [
        {
          "output_type": "stream",
          "text": [
            "Timestamp    0\n",
            "Price        0\n",
            "dtype: int64\n"
          ],
          "name": "stdout"
        }
      ]
    },
    {
      "cell_type": "code",
      "metadata": {
        "id": "Vo-eiWM-wmit",
        "colab_type": "code",
        "colab": {
          "base_uri": "https://localhost:8080/",
          "height": 347
        },
        "outputId": "ed39ca7b-ce56-4eef-f6f8-9d04e933421a"
      },
      "source": [
        "# Looks clean, lets get the dtypes fixed up\n",
        "cash_price.Timestamp = pd.to_datetime(cash_price.Timestamp, unit='s')\n",
        "cash_price.head(10)"
      ],
      "execution_count": 315,
      "outputs": [
        {
          "output_type": "execute_result",
          "data": {
            "text/html": [
              "<div>\n",
              "<style scoped>\n",
              "    .dataframe tbody tr th:only-of-type {\n",
              "        vertical-align: middle;\n",
              "    }\n",
              "\n",
              "    .dataframe tbody tr th {\n",
              "        vertical-align: top;\n",
              "    }\n",
              "\n",
              "    .dataframe thead th {\n",
              "        text-align: right;\n",
              "    }\n",
              "</style>\n",
              "<table border=\"1\" class=\"dataframe\">\n",
              "  <thead>\n",
              "    <tr style=\"text-align: right;\">\n",
              "      <th></th>\n",
              "      <th>Timestamp</th>\n",
              "      <th>Price</th>\n",
              "    </tr>\n",
              "  </thead>\n",
              "  <tbody>\n",
              "    <tr>\n",
              "      <th>0</th>\n",
              "      <td>2018-02-02 08:00:00</td>\n",
              "      <td>0.052494</td>\n",
              "    </tr>\n",
              "    <tr>\n",
              "      <th>1</th>\n",
              "      <td>2018-02-01 08:00:00</td>\n",
              "      <td>0.041177</td>\n",
              "    </tr>\n",
              "    <tr>\n",
              "      <th>2</th>\n",
              "      <td>2018-01-31 08:00:00</td>\n",
              "      <td>0.062411</td>\n",
              "    </tr>\n",
              "    <tr>\n",
              "      <th>3</th>\n",
              "      <td>2018-01-30 08:00:00</td>\n",
              "      <td>0.064185</td>\n",
              "    </tr>\n",
              "    <tr>\n",
              "      <th>4</th>\n",
              "      <td>2018-01-29 08:00:00</td>\n",
              "      <td>0.071138</td>\n",
              "    </tr>\n",
              "    <tr>\n",
              "      <th>5</th>\n",
              "      <td>2018-01-28 08:00:00</td>\n",
              "      <td>0.073951</td>\n",
              "    </tr>\n",
              "    <tr>\n",
              "      <th>6</th>\n",
              "      <td>2018-01-27 08:00:00</td>\n",
              "      <td>0.074749</td>\n",
              "    </tr>\n",
              "    <tr>\n",
              "      <th>7</th>\n",
              "      <td>2018-01-26 08:00:00</td>\n",
              "      <td>0.068029</td>\n",
              "    </tr>\n",
              "    <tr>\n",
              "      <th>8</th>\n",
              "      <td>2018-01-25 08:00:00</td>\n",
              "      <td>0.083559</td>\n",
              "    </tr>\n",
              "    <tr>\n",
              "      <th>9</th>\n",
              "      <td>2018-01-24 08:00:00</td>\n",
              "      <td>0.080997</td>\n",
              "    </tr>\n",
              "  </tbody>\n",
              "</table>\n",
              "</div>"
            ],
            "text/plain": [
              "            Timestamp     Price\n",
              "0 2018-02-02 08:00:00  0.052494\n",
              "1 2018-02-01 08:00:00  0.041177\n",
              "2 2018-01-31 08:00:00  0.062411\n",
              "3 2018-01-30 08:00:00  0.064185\n",
              "4 2018-01-29 08:00:00  0.071138\n",
              "5 2018-01-28 08:00:00  0.073951\n",
              "6 2018-01-27 08:00:00  0.074749\n",
              "7 2018-01-26 08:00:00  0.068029\n",
              "8 2018-01-25 08:00:00  0.083559\n",
              "9 2018-01-24 08:00:00  0.080997"
            ]
          },
          "metadata": {
            "tags": []
          },
          "execution_count": 315
        }
      ]
    },
    {
      "cell_type": "code",
      "metadata": {
        "id": "R2mFNWANxWlE",
        "colab_type": "code",
        "colab": {
          "base_uri": "https://localhost:8080/",
          "height": 347
        },
        "outputId": "f30cb46d-f9c0-4298-9928-635bb47e828a"
      },
      "source": [
        "cash_price.tail(10)"
      ],
      "execution_count": 316,
      "outputs": [
        {
          "output_type": "execute_result",
          "data": {
            "text/html": [
              "<div>\n",
              "<style scoped>\n",
              "    .dataframe tbody tr th:only-of-type {\n",
              "        vertical-align: middle;\n",
              "    }\n",
              "\n",
              "    .dataframe tbody tr th {\n",
              "        vertical-align: top;\n",
              "    }\n",
              "\n",
              "    .dataframe thead th {\n",
              "        text-align: right;\n",
              "    }\n",
              "</style>\n",
              "<table border=\"1\" class=\"dataframe\">\n",
              "  <thead>\n",
              "    <tr style=\"text-align: right;\">\n",
              "      <th></th>\n",
              "      <th>Timestamp</th>\n",
              "      <th>Price</th>\n",
              "    </tr>\n",
              "  </thead>\n",
              "  <tbody>\n",
              "    <tr>\n",
              "      <th>481</th>\n",
              "      <td>2016-10-08 07:00:00</td>\n",
              "      <td>0.000075</td>\n",
              "    </tr>\n",
              "    <tr>\n",
              "      <th>482</th>\n",
              "      <td>2016-10-07 07:00:00</td>\n",
              "      <td>0.000073</td>\n",
              "    </tr>\n",
              "    <tr>\n",
              "      <th>483</th>\n",
              "      <td>2016-10-06 07:00:00</td>\n",
              "      <td>0.000087</td>\n",
              "    </tr>\n",
              "    <tr>\n",
              "      <th>484</th>\n",
              "      <td>2016-10-05 07:00:00</td>\n",
              "      <td>0.000088</td>\n",
              "    </tr>\n",
              "    <tr>\n",
              "      <th>485</th>\n",
              "      <td>2016-10-04 07:00:00</td>\n",
              "      <td>0.000071</td>\n",
              "    </tr>\n",
              "    <tr>\n",
              "      <th>486</th>\n",
              "      <td>2016-10-03 07:00:00</td>\n",
              "      <td>0.000069</td>\n",
              "    </tr>\n",
              "    <tr>\n",
              "      <th>487</th>\n",
              "      <td>2016-10-02 07:00:00</td>\n",
              "      <td>0.000069</td>\n",
              "    </tr>\n",
              "    <tr>\n",
              "      <th>488</th>\n",
              "      <td>2016-10-01 07:00:00</td>\n",
              "      <td>0.000037</td>\n",
              "    </tr>\n",
              "    <tr>\n",
              "      <th>489</th>\n",
              "      <td>2016-09-30 07:00:00</td>\n",
              "      <td>0.000084</td>\n",
              "    </tr>\n",
              "    <tr>\n",
              "      <th>490</th>\n",
              "      <td>2016-09-29 07:00:00</td>\n",
              "      <td>0.000092</td>\n",
              "    </tr>\n",
              "  </tbody>\n",
              "</table>\n",
              "</div>"
            ],
            "text/plain": [
              "              Timestamp     Price\n",
              "481 2016-10-08 07:00:00  0.000075\n",
              "482 2016-10-07 07:00:00  0.000073\n",
              "483 2016-10-06 07:00:00  0.000087\n",
              "484 2016-10-05 07:00:00  0.000088\n",
              "485 2016-10-04 07:00:00  0.000071\n",
              "486 2016-10-03 07:00:00  0.000069\n",
              "487 2016-10-02 07:00:00  0.000069\n",
              "488 2016-10-01 07:00:00  0.000037\n",
              "489 2016-09-30 07:00:00  0.000084\n",
              "490 2016-09-29 07:00:00  0.000092"
            ]
          },
          "metadata": {
            "tags": []
          },
          "execution_count": 316
        }
      ]
    },
    {
      "cell_type": "code",
      "metadata": {
        "id": "AnX5D5E03hlM",
        "colab_type": "code",
        "colab": {
          "base_uri": "https://localhost:8080/",
          "height": 497
        },
        "outputId": "01f48554-61ae-48e9-e132-541fbe3436d6"
      },
      "source": [
        "# Alright, that looks almost exactly like my graph, starting at the end of 2016 and ending in 2018\n",
        "# Let's get plotting\n",
        "fig, ax = plt.subplots()\n",
        "\n",
        "# Set up stylesheet\n",
        "\n",
        "# Plot func\n",
        "ax.plot(cash_price.Timestamp, cash_price.Price, color='green', linewidth=2.5)\n",
        "\n",
        "# Stretch it out\n",
        "fig.set_figheight(6)\n",
        "fig.set_figwidth(18)\n",
        "\n",
        "# Make background white\n",
        "fig.set_facecolor(color='None')\n",
        "ax.set_facecolor(color='None')\n",
        "\n",
        "# Set up ticks\n",
        "dates_x = [1483228800, 1493596800, 1504224000, 1514764800, 1517529600]\n",
        "dates_x = pd.to_datetime(dates_x, unit='s')\n",
        "#print(dates_x)\n",
        "ax.set_xticks(dates_x)\n",
        "ax.set_yticks([0,0.05,0.1,0.15])\n",
        "\n",
        "# Set up tick labels\n",
        "ax.set_xticklabels(['JAN. \\'17','MAY','SEPT.','JAN. \\'18','FEB. 2, \\'18'], fontsize=12, color='#696969')\n",
        "ax.set_yticklabels(['0.00','0.05','0.10',' $0.15'], fontsize=12, color='#696969')\n",
        "\n",
        "# Remove frame of graph\n",
        "ax.spines['bottom'].set_visible(False)\n",
        "ax.spines['top'].set_visible(False)\n",
        "ax.spines['left'].set_visible(False)\n",
        "ax.spines['right'].set_visible(False)\n",
        "\n",
        "# Add base horizontal line\n",
        "ax.axhline(y=0, linewidth=1, color='black')\n",
        "\n",
        "# Add vertical line for final date\n",
        "\n",
        "# Add title\n",
        "ax.set_title(\"The changing value of Pepe Cash\", fontsize=20, pad=50, fontweight='bold')\n",
        "\n",
        "# Add subtitle\n",
        "ax.text(s=\"Price of Pepe Cash in U.S. dollars\", x=736420, y=0.16, fontsize=16)\n",
        "\n",
        "# Add footer text\n",
        "fig.text(s=\"FiveThirtyEight\",x=.06,y=0, color=\"#696969\")\n",
        "fig.text(s=\"SOURCE: RARE PEPE FOUNDATION\",x=0.82,y=0, color=\"#696969\")\n",
        "\n",
        "plt.show()"
      ],
      "execution_count": 317,
      "outputs": [
        {
          "output_type": "display_data",
          "data": {
            "image/png": "[encoded data removed]",
            "text/plain": [
              "<Figure size 1296x432 with 1 Axes>"
            ]
          },
          "metadata": {
            "tags": []
          }
        }
      ]
    },
    {
      "cell_type": "code",
      "metadata": {
        "id": "mNVzAyU7JLYZ",
        "colab_type": "code",
        "colab": {
          "base_uri": "https://localhost:8080/",
          "height": 447
        },
        "outputId": "8b93fe38-477f-4538-ba6d-66cd88dd508a"
      },
      "source": [
        "from IPython.display import display, Image\n",
        "\n",
        "url = 'https://i.imgur.com/UIQekhW.png'\n",
        "example = Image(url=url)\n",
        "\n",
        "display(example)"
      ],
      "execution_count": 318,
      "outputs": [
        {
          "output_type": "display_data",
          "data": {
            "text/html": [
              "<img src=\"https://i.imgur.com/UIQekhW.png\"/>"
            ],
            "text/plain": [
              "<IPython.core.display.Image object>"
            ]
          },
          "metadata": {
            "tags": []
          }
        }
      ]
    },
    {
      "cell_type": "markdown",
      "metadata": {
        "id": "0wSrBzmJyWaV",
        "colab_type": "text"
      },
      "source": [
        "# STRETCH OPTIONS\n",
        "\n",
        "### 1) Reproduce one of the following using the matplotlib or seaborn libraries:\n",
        "\n",
        "- [thanksgiving-2015](https://fivethirtyeight.com/features/heres-what-your-part-of-america-eats-on-thanksgiving/) \n",
        "- [candy-power-ranking](https://fivethirtyeight.com/features/the-ultimate-halloween-candy-power-ranking/) \n",
        "- or another example of your choice!\n",
        "\n",
        "### 2) Make more charts!\n",
        "\n",
        "Choose a chart you want to make, from [Visual Vocabulary - Vega Edition](http://ft.com/vocabulary).\n",
        "\n",
        "Find the chart in an example gallery of a Python data visualization library:\n",
        "- [Seaborn](http://seaborn.pydata.org/examples/index.html)\n",
        "- [Altair](https://altair-viz.github.io/gallery/index.html)\n",
        "- [Matplotlib](https://matplotlib.org/gallery.html)\n",
        "- [Pandas](https://pandas.pydata.org/pandas-docs/stable/visualization.html)\n",
        "\n",
        "Reproduce the chart. [Optionally, try the \"Ben Franklin Method.\"](https://docs.google.com/document/d/1ubOw9B3Hfip27hF2ZFnW3a3z9xAgrUDRReOEo-FHCVs/edit) If you want, experiment and make changes.\n",
        "\n",
        "Take notes. Consider sharing your work with your cohort!"
      ]
    },
    {
      "cell_type": "code",
      "metadata": {
        "id": "dRJkKftiy5BJ",
        "colab_type": "code",
        "colab": {}
      },
      "source": [
        "# More Work Here"
      ],
      "execution_count": 0,
      "outputs": []
    }
  ]
}